{
 "cells": [
  {
   "cell_type": "markdown",
   "metadata": {
    "colab_type": "text",
    "id": "c2KtXmjxtgw-"
   },
   "source": [
    "# Исключения\n",
    "## Домашняя работа"
   ]
  },
  {
   "cell_type": "markdown",
   "metadata": {
    "colab_type": "text",
    "id": "0Vhx-zKitgxA"
   },
   "source": [
    "### Вопросы по лекциям."
   ]
  },
  {
   "cell_type": "markdown",
   "metadata": {
    "colab_type": "text",
    "id": "14lleKewtgxC"
   },
   "source": [
    "Как поймать вообще все ошибки, которые могут произойти?"
   ]
  },
  {
   "cell_type": "markdown",
   "metadata": {
    "colab_type": "text",
    "id": "VQnYGkVKtgxD"
   },
   "source": [
    "**Ответ:**\n",
    "В строке с except не указывать класс ошибок"
   ]
  },
  {
   "cell_type": "markdown",
   "metadata": {
    "colab_type": "text",
    "id": "paSc2JE6tgxD"
   },
   "source": [
    "Сколько раз подряд можно указывать except?"
   ]
  },
  {
   "cell_type": "markdown",
   "metadata": {
    "colab_type": "text",
    "id": "bU0lzJPBtgxE"
   },
   "source": [
    "**Ответ:**\n",
    "Сколько угодно, т.к. можно указываться свой except для каждого класса ошибки (в том числе определённых программистом самостоятельно)."
   ]
  },
  {
   "cell_type": "markdown",
   "metadata": {
    "colab_type": "text",
    "id": "9wQ-yXpGtgxF"
   },
   "source": [
    "Вы хотите с помощью print вывести название ошибки в консоль, как это сделать?"
   ]
  },
  {
   "cell_type": "markdown",
   "metadata": {
    "colab_type": "text",
    "id": "iE1iqRZctgxH"
   },
   "source": [
    "**Ответ:**\n",
    "except as exc:<br>\n",
    "    print(f'{exc}')"
   ]
  },
  {
   "cell_type": "markdown",
   "metadata": {
    "colab_type": "text",
    "id": "EDAi3ZFBtgxI"
   },
   "source": [
    "Вы хотите с помощью print вывести параметры ошибки в консоль, как это сделать?"
   ]
  },
  {
   "cell_type": "markdown",
   "metadata": {
    "colab_type": "text",
    "id": "qWimgtF3tgxK"
   },
   "source": [
    "**Ответ:**\n",
    "except as exc: <br>print(f'{exc.args}')"
   ]
  },
  {
   "cell_type": "markdown",
   "metadata": {
    "colab_type": "text",
    "id": "leOCJIlRtgxK"
   },
   "source": [
    "Что такое DeprecationWarning?"
   ]
  },
  {
   "cell_type": "markdown",
   "metadata": {
    "colab_type": "text",
    "id": "KyaynuyvtgxL"
   },
   "source": [
    "**Ответ:**\n",
    "DeprecationWarning это класс объектов Warning, которые предупреждают о том что, в следующем релизе библиотеки поведение функиции будет изменено, либо функция будет удалена."
   ]
  },
  {
   "cell_type": "markdown",
   "metadata": {
    "colab_type": "text",
    "id": "oxgCUHzotgxM"
   },
   "source": [
    "### Разминочные задания. \n",
    "<br>\n",
    "\n",
    "Вам даны две функции. Поисследуйте, какие ошибки могут возникнуть при их реализации. Обработайте эти ошибки."
   ]
  },
  {
   "cell_type": "code",
   "execution_count": 10,
   "metadata": {
    "colab": {},
    "colab_type": "code",
    "id": "X4nsMUUAtgxN"
   },
   "outputs": [
    {
     "name": "stdout",
     "output_type": "stream",
     "text": [
      "enter a number: 47\n",
      "enter another number: 0\n",
      "На 0 делить нельзя! При вводе another number используйте числа отличные от 0.\n"
     ]
    }
   ],
   "source": [
    "def div():\n",
    "    for i in range(2):\n",
    "        x = int(input(\"enter a number: \"))\n",
    "        y = int(input(\"enter another number: \"))\n",
    "        print(x, '/', y, '=', x/y)\n",
    "\n",
    "try:\n",
    "    div()\n",
    "except ValueError:\n",
    "    print(\"Вводите только числа!\")\n",
    "except ZeroDivisionError:\n",
    "    print(\"На 0 делить нельзя! При вводе another number используйте числа отличные от 0.\")\n"
   ]
  },
  {
   "cell_type": "code",
   "execution_count": 27,
   "metadata": {
    "colab": {},
    "colab_type": "code",
    "id": "hoDmt-nStgxS"
   },
   "outputs": [
    {
     "name": "stdout",
     "output_type": "stream",
     "text": [
      "sumOfPairs =  [10, 5, 9]\n"
     ]
    }
   ],
   "source": [
    "def sumOfPairs(L1, L2):\n",
    "    sum = 0\n",
    "    sumOfPairs = []\n",
    "    for i in range(len(L1)):\n",
    "        sumOfPairs.append(L1[i]+L2[i])\n",
    "\n",
    "    print(\"sumOfPairs = \", sumOfPairs)\n",
    "    \n",
    "try:\n",
    "    sumOfPairs([4, 5, 6], [6, 0, 3])\n",
    "except (TypeError, ValueError, IndexError):\n",
    "    print(\"Функция sumOfPairs() принимает в качестве параметров списки одинаковой длины из чисел!\")\n",
    "    print('-= Ещё может работать со строками или списками из символов одинаковой длины, но это уже другая история. =-')"
   ]
  },
  {
   "cell_type": "markdown",
   "metadata": {
    "colab_type": "text",
    "id": "geX0-Zq6tgxU"
   },
   "source": [
    "### Задание 1.\n",
    "\n",
    "Есть файл с протоколом регистраций пользователей на сайте (registrations.txt).<br>\n",
    "Каждая строка содержит информацию о имени, электронной почте и возрасте человека. <br><br>\n",
    "\n",
    "\n",
    "Надо проверить данные из файла, для каждой строки:\n",
    " - присутсвуют все три поля\n",
    " - поле имени содержит только буквы\n",
    " - поле email содержит @ и .\n",
    " - поле возраст является числом от 10 до 99<br>\n",
    "\n",
    "В результате проверки нужно сформировать два файла\n",
    " - registrations_good.log для правильных данных, записывать строки как есть\n",
    "- registrations_bad.log для ошибочных, записывать строку и вид ошибки.<br>\n",
    "\n",
    "Для валидации строки данных написать метод, который может выкидывать исключения:\n",
    " - НЕ присутсвуют все три поля: ValueError\n",
    " - поле имени содержит НЕ только буквы: NotNameError (кастомное исключение)\n",
    " - поле email НЕ содержит @ и .(точку): NotEmailError (кастомное исключение)\n",
    " - поле возраст НЕ является числом от 10 до 99: ValueError\n",
    "Вызов метода обернуть в try-except."
   ]
  },
  {
   "cell_type": "code",
   "execution_count": 60,
   "metadata": {
    "colab": {},
    "colab_type": "code",
    "id": "Eq2Ax0LntgxW",
    "scrolled": true
   },
   "outputs": [],
   "source": [
    "### YOUR CODE HERE ###\n",
    "class NotNameError(Exception):\n",
    "    \n",
    "    def __init__(self, message, input_data = None):\n",
    "        self.message = message\n",
    "        self.input_data = input_data\n",
    "        \n",
    "    def __str__(self):\n",
    "        return self.message\n",
    "\n",
    "class NotEmailError(Exception):\n",
    "    \n",
    "    def __init__(self, message, input_data = None):\n",
    "        self.message = message\n",
    "        self.input_data = input_data\n",
    "    \n",
    "    def __str__(self):\n",
    "        return self.message\n",
    "\n",
    "def validate(line):\n",
    "\n",
    "    list_of_parts = line.split()\n",
    "\n",
    "    if len(list_of_parts) != 3:\n",
    "        raise ValueError(\"The line does not contain one or more fields\")\n",
    "    else:\n",
    "        try:\n",
    "            age = int(list_of_parts[2])\n",
    "        except:\n",
    "            raise ValueError(\"Prohibited characters are used in the age field\")\n",
    "\n",
    "    if not (9 < age < 100):\n",
    "        raise ValueError(\"The specified age is not suitable\")\n",
    "    elif not list_of_parts[0].isalpha():\n",
    "        raise NotNameError(\"The Not name error occured\", line[:-1])\n",
    "    elif list_of_parts[1].find('@') == -1 or list_of_parts[1].find('.') == -1:\n",
    "        raise NotEmailError(\"The Not email error occured\", line[:-1])\n",
    "\n",
    "good_log = open('registrations_good.log', 'w', encoding='UTF-8')\n",
    "bad_log = open('registrations_bad.log', 'w', encoding='UTF-8')\n",
    "\n",
    "with open('registrations.txt', 'r', encoding='UTF-8') as rf:\n",
    "    for line in rf:\n",
    "        try:\n",
    "            validate(line)\n",
    "            #Пишем корректную строку в файл без ошибок\n",
    "            good_log.write(line)\n",
    "        except ValueError as value_excp:\n",
    "            #Пишем некорректную строку в файл ошибок с описанием ошибки\n",
    "            bad_log.write(f'{value_excp.args[0]} in line: \"{line[:-1]}\"\\n')\n",
    "        except NotNameError as not_name_excp:\n",
    "            bad_log.write(f'{not_name_excp} in line: \"{not_name_excp.input_data}\"\\n')\n",
    "        except NotEmailError as not_email_excp:\n",
    "            bad_log.write(f'{not_email_excp} in line: \"{not_email_excp.input_data}\"\\n')\n",
    "\n",
    "rf.close()\n",
    "good_log.close()\n",
    "bad_log.close()"
   ]
  },
  {
   "cell_type": "code",
   "execution_count": null,
   "metadata": {},
   "outputs": [],
   "source": []
  }
 ],
 "metadata": {
  "colab": {
   "name": "jun_anl_exeptions.ipynb",
   "provenance": [],
   "version": "0.3.2"
  },
  "kernelspec": {
   "display_name": "Python 3",
   "language": "python",
   "name": "python3"
  },
  "language_info": {
   "codemirror_mode": {
    "name": "ipython",
    "version": 3
   },
   "file_extension": ".py",
   "mimetype": "text/x-python",
   "name": "python",
   "nbconvert_exporter": "python",
   "pygments_lexer": "ipython3",
   "version": "3.7.6"
  }
 },
 "nbformat": 4,
 "nbformat_minor": 1
}
